{
 "cells": [
  {
   "cell_type": "markdown",
   "metadata": {
    "id": "hl3pVnDDs6Se"
   },
   "source": [
    "# Rules\n",
    "\n",
    "- We will grade only the answer cells, so make sure that you type your answer inside of the answer cell. \n",
    "\n",
    "- Make sure that your code is working when you restart the kernel. Notebooks are great tools for exploration but we should be very careful as we are writing codes. For more, please check: [Why notebooks suck](https://towardsdatascience.com/5-reasons-why-jupyter-notebooks-suck-4dc201e27086)\n",
    "\n",
    "- Make sure that your results are in the correct format. If we ask you to return a list, your answer should be in a list format. If the question asks you to return a scalar (float, int, etc.) then make sure that your answer is in the correct format.\n",
    "\n",
    "## Homework\n",
    "\n",
    "1. Correct the formatting of markdown cells\n",
    "    * Use appropriate headers\n",
    "1. Finish the coding sections."
   ]
  },
  {
   "cell_type": "markdown",
   "metadata": {
    "id": "Tur9zoV6qB4I"
   },
   "source": [
    "Question-1\n",
    "\n",
    "Write a Python function to return a **list** of all the numbers from 1 to n which are divisible by 5. `n` will be given as an argument to your function.\n"
   ]
  },
  {
   "cell_type": "code",
   "execution_count": 4,
   "metadata": {
    "id": "bBH79NeVs1m1"
   },
   "outputs": [
    {
     "data": {
      "text/plain": [
       "[5,\n",
       " 10,\n",
       " 15,\n",
       " 20,\n",
       " 25,\n",
       " 30,\n",
       " 35,\n",
       " 40,\n",
       " 45,\n",
       " 50,\n",
       " 55,\n",
       " 60,\n",
       " 65,\n",
       " 70,\n",
       " 75,\n",
       " 80,\n",
       " 85,\n",
       " 90,\n",
       " 95,\n",
       " 100,\n",
       " 105,\n",
       " 110,\n",
       " 115,\n",
       " 120]"
      ]
     },
     "execution_count": 4,
     "metadata": {},
     "output_type": "execute_result"
    }
   ],
   "source": [
    "# Your Answer Cell\n",
    "# you can edit the function below. \n",
    "# Don't change function name and parameter names.\n",
    "# you can define new variables inside of the function.\n",
    "\n",
    "def divisible_five(given_number):\n",
    "    my_list = []\n",
    "    for i in range(1,given_number):\n",
    "        if(i%5==0):\n",
    "            my_list.append(i)\n",
    "    return my_list\n",
    "\n",
    "divisible_five(121)"
   ]
  },
  {
   "cell_type": "markdown",
   "metadata": {
    "id": "9DpQ6X0io0If"
   },
   "source": [
    "Question-2\n",
    "\n",
    "Write a function that returns the sum of all the multiples of 3 or 7 below a given number.\n"
   ]
  },
  {
   "cell_type": "code",
   "execution_count": 7,
   "metadata": {
    "id": "rmYpunGwp-bq"
   },
   "outputs": [
    {
     "name": "stdout",
     "output_type": "stream",
     "text": [
      "21426429\n"
     ]
    }
   ],
   "source": [
    "# Your Answer Cell\n",
    "# you can edit the function below. \n",
    "# Don't change function name and parameter names.\n",
    "# you can define new variables inside of the function.\n",
    "\n",
    "def my_function(given_number):\n",
    "    my_list=[]\n",
    "    for i in range(1,given_number):\n",
    "        if(i%3==0) or (i%7==0):\n",
    "            my_list.append(int(i))\n",
    "    Sum= sum(my_list)\n",
    "    print(Sum)\n",
    "\n",
    "    return\n",
    "\n",
    "\n",
    "## your answer above\n",
    "\n",
    "my_function(10000)"
   ]
  },
  {
   "cell_type": "markdown",
   "metadata": {
    "id": "inGr4AOovJhj"
   },
   "source": [
    "Question-3 (Shell & Magic Commands)\n"
   ]
  },
  {
   "cell_type": "markdown",
   "metadata": {
    "id": "54izIMcAwgud"
   },
   "source": [
    "Question-3-a\n",
    "\n",
    "Below print current working directory."
   ]
  },
  {
   "cell_type": "code",
   "execution_count": 8,
   "metadata": {
    "id": "0O27azQfvZjv"
   },
   "outputs": [
    {
     "data": {
      "text/plain": [
       "'C:\\\\Users\\\\nitya\\\\OneDrive\\\\Documents\\\\GitHub\\\\DS601_Fall21\\\\Week01'"
      ]
     },
     "execution_count": 8,
     "metadata": {},
     "output_type": "execute_result"
    }
   ],
   "source": [
    "## Answer Cell \n",
    "%pwd\n",
    "\n",
    "\n"
   ]
  },
  {
   "cell_type": "markdown",
   "metadata": {
    "id": "lDzXCiGnvbMO"
   },
   "source": [
    "Question-3-b\n",
    "\n",
    "Below list all the files and folders in the current working directory."
   ]
  },
  {
   "cell_type": "code",
   "execution_count": 9,
   "metadata": {
    "id": "SHnZDzFZwUeB"
   },
   "outputs": [
    {
     "name": "stdout",
     "output_type": "stream",
     "text": [
      " Volume in drive C is Windows-SSD\n",
      " Volume Serial Number is BE15-3362\n",
      "\n",
      " Directory of C:\\Users\\nitya\\OneDrive\\Documents\\GitHub\\DS601_Fall21\\Week01\n",
      "\n",
      "09/07/2021  02:10 PM    <DIR>          .\n",
      "09/07/2021  02:10 PM    <DIR>          ..\n",
      "09/07/2021  02:04 PM    <DIR>          .ipynb_checkpoints\n",
      "09/07/2021  02:10 PM             9,345 HW-01.ipynb\n",
      "09/07/2021  01:49 PM    <DIR>          images\n",
      "09/07/2021  01:49 PM                91 test.py\n",
      "09/07/2021  01:49 PM            33,982 Week01.ipynb\n",
      "               3 File(s)         43,418 bytes\n",
      "               4 Dir(s)  447,540,891,648 bytes free\n"
     ]
    }
   ],
   "source": [
    "## Answer Cell\n",
    "%ls\n"
   ]
  },
  {
   "cell_type": "markdown",
   "metadata": {
    "id": "PT3fPRc3wWh1"
   },
   "source": [
    "Question 3-c\n",
    "\n",
    "Create a new directory within the current working directory 'data'"
   ]
  },
  {
   "cell_type": "code",
   "execution_count": 14,
   "metadata": {
    "id": "cvhzEyZNwXdn"
   },
   "outputs": [
    {
     "name": "stderr",
     "output_type": "stream",
     "text": [
      "A subdirectory or file data already exists.\n"
     ]
    },
    {
     "data": {
      "text/plain": [
       "'C:\\\\Users\\\\nitya\\\\OneDrive\\\\Documents\\\\GitHub\\\\DS601_Fall21\\\\Week01'"
      ]
     },
     "execution_count": 14,
     "metadata": {},
     "output_type": "execute_result"
    }
   ],
   "source": [
    "## Answer Cell\n",
    "%mkdir data\n",
    "%pwd"
   ]
  },
  {
   "cell_type": "markdown",
   "metadata": {
    "id": "bKn3RzJgwYnc"
   },
   "source": [
    "Question-3-d\n",
    "\n",
    "Change the working directory to 'data'\n",
    "print current working directory again to make sure that your answer is correct."
   ]
  },
  {
   "cell_type": "code",
   "execution_count": 15,
   "metadata": {
    "id": "TnhNhVO3wZsl"
   },
   "outputs": [
    {
     "name": "stdout",
     "output_type": "stream",
     "text": [
      "C:\\Users\\nitya\\OneDrive\\Documents\\GitHub\\DS601_Fall21\\Week01\\data\n"
     ]
    },
    {
     "data": {
      "text/plain": [
       "'C:\\\\Users\\\\nitya\\\\OneDrive\\\\Documents\\\\GitHub\\\\DS601_Fall21\\\\Week01\\\\data'"
      ]
     },
     "execution_count": 15,
     "metadata": {},
     "output_type": "execute_result"
    }
   ],
   "source": [
    "## Answer Cell\n",
    "%cd data\n",
    "%pwd"
   ]
  },
  {
   "cell_type": "markdown",
   "metadata": {
    "id": "2DYjo1LqyjcW"
   },
   "source": [
    "Question-3-e\n",
    "\n",
    "Create a new file under 'content/my_directory' and name it 'my_script.py'"
   ]
  },
  {
   "cell_type": "code",
   "execution_count": 27,
   "metadata": {
    "id": "khNRtjC6yzCf"
   },
   "outputs": [
    {
     "name": "stdout",
     "output_type": "stream",
     "text": [
      "C:\\Users\\nitya\\OneDrive\\Documents\\GitHub\\DS601_Fall21\\Week01\\data\\content\\content\\my_directory\\content\\my_directory\\content\\my_directory\\content\n",
      "C:\\Users\\nitya\\OneDrive\\Documents\\GitHub\\DS601_Fall21\\Week01\\data\\content\\content\\my_directory\\content\\my_directory\\content\\my_directory\\content\\my_directory\n"
     ]
    }
   ],
   "source": [
    "## Answer Cell\n",
    "%mkdir content\n",
    "%cd content\n",
    "%mkdir my_directory\n",
    "%cd my_directory"
   ]
  },
  {
   "cell_type": "code",
   "execution_count": 30,
   "metadata": {},
   "outputs": [
    {
     "data": {
      "text/plain": [
       "'C:\\\\Users\\\\nitya\\\\OneDrive\\\\Documents\\\\GitHub\\\\DS601_Fall21\\\\Week01\\\\data\\\\content\\\\content\\\\my_directory\\\\content\\\\my_directory\\\\content\\\\my_directory\\\\content\\\\my_directory'"
      ]
     },
     "execution_count": 30,
     "metadata": {},
     "output_type": "execute_result"
    }
   ],
   "source": [
    "%echo print(\"Sai Naga\"); print(\"Bandaru\"); > my_script.py\n",
    "%pwd"
   ]
  },
  {
   "cell_type": "markdown",
   "metadata": {
    "id": "OZPKFtqX1Wev"
   },
   "source": [
    "Question-3-f\n",
    "\n",
    "Create 'my_script.py' so that it prints 'Your First Name-Your Last Name' and run this scripy in the cell below."
   ]
  },
  {
   "cell_type": "code",
   "execution_count": 34,
   "metadata": {
    "id": "n7i7G_YE1qi0"
   },
   "outputs": [
    {
     "data": {
      "text/plain": [
       "'C:\\\\Users\\\\nitya\\\\OneDrive\\\\Documents\\\\GitHub\\\\DS601_Fall21\\\\Week01\\\\data\\\\content\\\\content\\\\my_directory\\\\content\\\\my_directory\\\\content\\\\my_directory\\\\content\\\\my_directory'"
      ]
     },
     "execution_count": 34,
     "metadata": {},
     "output_type": "execute_result"
    }
   ],
   "source": [
    "## Answer Cell\n",
    "%pwd\n",
    "\n"
   ]
  },
  {
   "cell_type": "markdown",
   "metadata": {},
   "source": [
    "Question-4\n",
    "\n",
    "Commit & push to your repo"
   ]
  },
  {
   "cell_type": "code",
   "execution_count": 12,
   "metadata": {},
   "outputs": [],
   "source": [
    "## Answer Cell"
   ]
  },
  {
   "cell_type": "code",
   "execution_count": null,
   "metadata": {},
   "outputs": [],
   "source": [
    "git commit -m \"Final commit\"\n",
    "git push"
   ]
  }
 ],
 "metadata": {
  "colab": {
   "collapsed_sections": [],
   "name": "HW-1.ipynb",
   "provenance": []
  },
  "kernelspec": {
   "display_name": "Python 3",
   "language": "python",
   "name": "python3"
  },
  "language_info": {
   "codemirror_mode": {
    "name": "ipython",
    "version": 3
   },
   "file_extension": ".py",
   "mimetype": "text/x-python",
   "name": "python",
   "nbconvert_exporter": "python",
   "pygments_lexer": "ipython3",
   "version": "3.8.8"
  },
  "toc": {
   "base_numbering": 1,
   "nav_menu": {},
   "number_sections": false,
   "sideBar": true,
   "skip_h1_title": false,
   "title_cell": "Table of Contents",
   "title_sidebar": "Contents",
   "toc_cell": false,
   "toc_position": {},
   "toc_section_display": true,
   "toc_window_display": true
  }
 },
 "nbformat": 4,
 "nbformat_minor": 1
}
