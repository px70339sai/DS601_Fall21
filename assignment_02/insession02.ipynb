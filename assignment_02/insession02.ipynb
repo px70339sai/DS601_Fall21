{
  "nbformat": 4,
  "nbformat_minor": 0,
  "metadata": {
    "colab": {
      "name": "insession02.ipynb",
      "provenance": [],
      "authorship_tag": "ABX9TyMRL/wMum++Ddegt8M45l74",
      "include_colab_link": true
    },
    "kernelspec": {
      "name": "python3",
      "display_name": "Python 3"
    },
    "language_info": {
      "name": "python"
    }
  },
  "cells": [
    {
      "cell_type": "markdown",
      "metadata": {
        "id": "view-in-github",
        "colab_type": "text"
      },
      "source": [
        "<a href=\"https://colab.research.google.com/github/px70339sai/DS601_Fall21/blob/main/assignment_02/insession02.ipynb\" target=\"_parent\"><img src=\"https://colab.research.google.com/assets/colab-badge.svg\" alt=\"Open In Colab\"/></a>"
      ]
    },
    {
      "cell_type": "markdown",
      "metadata": {
        "id": "1lOm553S_mKu"
      },
      "source": [
        "## In Session hands on practice\n",
        "Dr Wang"
      ]
    },
    {
      "cell_type": "markdown",
      "metadata": {
        "id": "Whxe9rZy_76j"
      },
      "source": [
        "## 1. Simple Types\n",
        "- int\n",
        "- float\n",
        "- str\n",
        "- boolean(True/False, First letter UPPER CASE\n",
        "- NaN(Not a Number)"
      ]
    },
    {
      "cell_type": "code",
      "metadata": {
        "colab": {
          "base_uri": "https://localhost:8080/"
        },
        "id": "Y21vNoyV_0RG",
        "outputId": "87ba3abf-5da5-42a6-9616-9c4949ad67aa"
      },
      "source": [
        "x=2\n",
        "y=0.5\n",
        "z= \"Nitya\"\n",
        "print(x,y,z)"
      ],
      "execution_count": 3,
      "outputs": [
        {
          "output_type": "stream",
          "name": "stdout",
          "text": [
            "2 0.5 Nitya\n"
          ]
        }
      ]
    },
    {
      "cell_type": "code",
      "metadata": {
        "colab": {
          "base_uri": "https://localhost:8080/"
        },
        "id": "T-wQI-NXEMEF",
        "outputId": "8b2fa3b8-c3b8-4ae7-b628-d1c881ecf90c"
      },
      "source": [
        "type(x)"
      ],
      "execution_count": 4,
      "outputs": [
        {
          "output_type": "execute_result",
          "data": {
            "text/plain": [
              "int"
            ]
          },
          "metadata": {},
          "execution_count": 4
        }
      ]
    },
    {
      "cell_type": "code",
      "metadata": {
        "colab": {
          "base_uri": "https://localhost:8080/"
        },
        "id": "uEf6iggeEStm",
        "outputId": "0e4b4056-8937-4ac0-90a0-3d2d12c58168"
      },
      "source": [
        "type(z)"
      ],
      "execution_count": 5,
      "outputs": [
        {
          "output_type": "execute_result",
          "data": {
            "text/plain": [
              "str"
            ]
          },
          "metadata": {},
          "execution_count": 5
        }
      ]
    },
    {
      "cell_type": "markdown",
      "metadata": {
        "id": "lkn0AvS9EU4F"
      },
      "source": [
        "## 2. Collection Types"
      ]
    },
    {
      "cell_type": "code",
      "metadata": {
        "colab": {
          "base_uri": "https://localhost:8080/"
        },
        "id": "wzWRL2iKEj-K",
        "outputId": "9bc35878-4712-4dd8-9533-90d7bc4f8532"
      },
      "source": [
        "a_list=[1,4,7,10]\n",
        "print(a_list)\n"
      ],
      "execution_count": 6,
      "outputs": [
        {
          "output_type": "stream",
          "name": "stdout",
          "text": [
            "[1, 4, 7, 10]\n"
          ]
        }
      ]
    },
    {
      "cell_type": "code",
      "metadata": {
        "colab": {
          "base_uri": "https://localhost:8080/"
        },
        "id": "K2Dm26OJEspw",
        "outputId": "87bb4454-b9e7-4615-a058-96eb43a40a84"
      },
      "source": [
        "type(a_list)"
      ],
      "execution_count": 7,
      "outputs": [
        {
          "output_type": "execute_result",
          "data": {
            "text/plain": [
              "list"
            ]
          },
          "metadata": {},
          "execution_count": 7
        }
      ]
    },
    {
      "cell_type": "markdown",
      "metadata": {
        "id": "whQ2pa-7EyIM"
      },
      "source": [
        " ## 3. Loop"
      ]
    },
    {
      "cell_type": "code",
      "metadata": {
        "colab": {
          "base_uri": "https://localhost:8080/"
        },
        "id": "Vqxfg4_YE5Hw",
        "outputId": "fe18ce1a-f838-4490-ca7a-d2aafc2e747b"
      },
      "source": [
        "for i in a_list:\n",
        "    print(\"integer\" , i)"
      ],
      "execution_count": 8,
      "outputs": [
        {
          "output_type": "stream",
          "name": "stdout",
          "text": [
            "integer 1\n",
            "integer 4\n",
            "integer 7\n",
            "integer 10\n"
          ]
        }
      ]
    },
    {
      "cell_type": "markdown",
      "metadata": {
        "id": "9G3avcifFx8N"
      },
      "source": [
        "## 4. Conditions"
      ]
    },
    {
      "cell_type": "code",
      "metadata": {
        "colab": {
          "base_uri": "https://localhost:8080/"
        },
        "id": "BnkKTfi6F44J",
        "outputId": "c7122940-c0a3-4e4d-abe7-0a404d48e13e"
      },
      "source": [
        "print(10%2) #modulo"
      ],
      "execution_count": 9,
      "outputs": [
        {
          "output_type": "stream",
          "name": "stdout",
          "text": [
            "0\n"
          ]
        }
      ]
    },
    {
      "cell_type": "code",
      "metadata": {
        "colab": {
          "base_uri": "https://localhost:8080/"
        },
        "id": "HFWp28OLGfti",
        "outputId": "1ee7d0cd-840c-4ef4-8a06-e71706ecc7b5"
      },
      "source": [
        "print(23%2) #modulo"
      ],
      "execution_count": 10,
      "outputs": [
        {
          "output_type": "stream",
          "name": "stdout",
          "text": [
            "1\n"
          ]
        }
      ]
    },
    {
      "cell_type": "code",
      "metadata": {
        "colab": {
          "base_uri": "https://localhost:8080/"
        },
        "id": "LdOvXSOPGla5",
        "outputId": "f8b81ec3-9b91-4bd7-aef6-565e3d452339"
      },
      "source": [
        "for i in a_list:\n",
        "    if i %2==1:\n",
        "        print(\"integer\" ,i)"
      ],
      "execution_count": 12,
      "outputs": [
        {
          "output_type": "stream",
          "name": "stdout",
          "text": [
            "integer 1\n",
            "integer 7\n"
          ]
        }
      ]
    },
    {
      "cell_type": "markdown",
      "metadata": {
        "id": "2s19W-uOKpyE"
      },
      "source": [
        "## 5. Python Built_in functions\n",
        "- range()\n",
        "-list()\n",
        "-int()\n",
        "-str()"
      ]
    },
    {
      "cell_type": "code",
      "metadata": {
        "colab": {
          "base_uri": "https://localhost:8080/"
        },
        "id": "F8LWNykYLCnV",
        "outputId": "81a3bcb8-8571-44af-a2b7-0a0c1aa930d6"
      },
      "source": [
        "for i in range (10,21,2):    # start=10, stop=21 (upto 20, not including 21), step=2\n",
        "  print(i)"
      ],
      "execution_count": 16,
      "outputs": [
        {
          "output_type": "stream",
          "name": "stdout",
          "text": [
            "10\n",
            "12\n",
            "14\n",
            "16\n",
            "18\n",
            "20\n"
          ]
        }
      ]
    },
    {
      "cell_type": "code",
      "metadata": {
        "colab": {
          "base_uri": "https://localhost:8080/"
        },
        "id": "3V8AxmpiK-vR",
        "outputId": "ff0938d6-bf27-44a1-bd0b-51b8a3be4ac6"
      },
      "source": [
        "for j in range(0,5):\n",
        "    print(j)"
      ],
      "execution_count": 17,
      "outputs": [
        {
          "output_type": "stream",
          "name": "stdout",
          "text": [
            "0\n",
            "1\n",
            "2\n",
            "3\n",
            "4\n"
          ]
        }
      ]
    },
    {
      "cell_type": "code",
      "metadata": {
        "colab": {
          "base_uri": "https://localhost:8080/"
        },
        "id": "y31GW3YMMVoB",
        "outputId": "2d560480-a357-4b4d-f77a-5eeb62df3d53"
      },
      "source": [
        "print(list(range(0,5)))"
      ],
      "execution_count": 19,
      "outputs": [
        {
          "output_type": "stream",
          "name": "stdout",
          "text": [
            "[0, 1, 2, 3, 4]\n"
          ]
        }
      ]
    },
    {
      "cell_type": "code",
      "metadata": {
        "colab": {
          "base_uri": "https://localhost:8080/"
        },
        "id": "CsKD_rbpMztz",
        "outputId": "662f18fb-8bb4-4970-c956-653d2d606be3"
      },
      "source": [
        "x=\"50\"\n",
        "type(x)"
      ],
      "execution_count": 20,
      "outputs": [
        {
          "output_type": "execute_result",
          "data": {
            "text/plain": [
              "str"
            ]
          },
          "metadata": {},
          "execution_count": 20
        }
      ]
    },
    {
      "cell_type": "code",
      "metadata": {
        "colab": {
          "base_uri": "https://localhost:8080/"
        },
        "id": "qT-50cvGNBLP",
        "outputId": "184c597c-6956-4875-a818-f23b9961dd67"
      },
      "source": [
        "y= int(x)\n",
        "type(y)"
      ],
      "execution_count": 21,
      "outputs": [
        {
          "output_type": "execute_result",
          "data": {
            "text/plain": [
              "int"
            ]
          },
          "metadata": {},
          "execution_count": 21
        }
      ]
    },
    {
      "cell_type": "code",
      "metadata": {
        "colab": {
          "base_uri": "https://localhost:8080/"
        },
        "id": "3o2pVuvrNGZ7",
        "outputId": "566966ed-096f-4576-a5be-6686eca1b6cf"
      },
      "source": [
        "print(x,y)"
      ],
      "execution_count": 22,
      "outputs": [
        {
          "output_type": "stream",
          "name": "stdout",
          "text": [
            "50 50\n"
          ]
        }
      ]
    },
    {
      "cell_type": "markdown",
      "metadata": {
        "id": "WGHnbI8CNjP1"
      },
      "source": [
        "## 6. Accepting User Inputs"
      ]
    },
    {
      "cell_type": "code",
      "metadata": {
        "colab": {
          "base_uri": "https://localhost:8080/"
        },
        "id": "sDFmkrVrOxYP",
        "outputId": "0e51bbf0-f591-4c48-8de6-468b0a0f1a52"
      },
      "source": [
        "x= input(\"Enter an integer:\")"
      ],
      "execution_count": 30,
      "outputs": [
        {
          "name": "stdout",
          "output_type": "stream",
          "text": [
            "Enter an integer:8\n"
          ]
        }
      ]
    },
    {
      "cell_type": "markdown",
      "metadata": {
        "id": "Ry3CZZV6Oqxt"
      },
      "source": [
        "## 7. Exception Handling"
      ]
    },
    {
      "cell_type": "code",
      "metadata": {
        "colab": {
          "base_uri": "https://localhost:8080/"
        },
        "id": "RRg3uvoeOwYJ",
        "outputId": "96f0c62e-0f76-4909-d648-4ba1a4bf6040"
      },
      "source": [
        "y = int(\"50\")\n",
        "print(y)"
      ],
      "execution_count": 28,
      "outputs": [
        {
          "output_type": "stream",
          "name": "stdout",
          "text": [
            "50\n"
          ]
        }
      ]
    },
    {
      "cell_type": "code",
      "metadata": {
        "colab": {
          "base_uri": "https://localhost:8080/"
        },
        "id": "4afbpquHPBaE",
        "outputId": "bfdfc6db-beac-48e9-ab81-f72f4388c913"
      },
      "source": [
        "x = input(\"Please enter an integer:\")\n",
        "try:\n",
        "    y= int(x)\n",
        "    print(\"got integer:\", y)\n",
        "except:\n",
        "    print(\"Unable to cover the user input into integer\")"
      ],
      "execution_count": 31,
      "outputs": [
        {
          "output_type": "stream",
          "name": "stdout",
          "text": [
            "Please enter an integer:wang\n",
            "Unable to cover the user input into integer\n"
          ]
        }
      ]
    },
    {
      "cell_type": "markdown",
      "metadata": {
        "id": "ZcvQ9vpiP3ux"
      },
      "source": [
        "## Infiinite Loop"
      ]
    },
    {
      "cell_type": "code",
      "metadata": {
        "colab": {
          "base_uri": "https://localhost:8080/"
        },
        "id": "j_SF3NxQP-em",
        "outputId": "7685a2d4-2bdf-46e8-8f1e-2d29babc1b23"
      },
      "source": [
        "while True:\n",
        "    x= input(\"Please enter an integer:\")\n",
        "    try:\n",
        "        y= int(x)\n",
        "        print(\"got integer:\", y)\n",
        "    except:\n",
        "        print(\"Unable to cover the user input into integer\")\n",
        "  \n",
        " "
      ],
      "execution_count": null,
      "outputs": [
        {
          "output_type": "stream",
          "name": "stdout",
          "text": [
            "Please enter an integer:5\n",
            "got integer: 5\n",
            "Please enter an integer:wang\n",
            "Unable to cover the user input into integer\n"
          ]
        }
      ]
    }
  ]
}